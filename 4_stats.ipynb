{
 "cells": [
  {
   "cell_type": "markdown",
   "metadata": {},
   "source": [
    "## Результаты классификаторов и статистическая значимость"
   ]
  },
  {
   "cell_type": "code",
   "execution_count": 1,
   "metadata": {},
   "outputs": [],
   "source": [
    "%load_ext autoreload\n",
    "%autoreload 2\n",
    "\n",
    "%matplotlib inline\n",
    "import matplotlib.pyplot as plt\n",
    "\n",
    "import os\n",
    "import numpy as np\n",
    "import pandas as pd\n",
    "import scipy\n",
    "import torch\n",
    "\n",
    "import helpers\n",
    "\n",
    "from sklearn.metrics import f1_score\n",
    "\n",
    "import warnings\n",
    "warnings.filterwarnings('ignore')"
   ]
  },
  {
   "cell_type": "code",
   "execution_count": 2,
   "metadata": {},
   "outputs": [
    {
     "data": {
      "text/html": [
       "<div>\n",
       "<style scoped>\n",
       "    .dataframe tbody tr th:only-of-type {\n",
       "        vertical-align: middle;\n",
       "    }\n",
       "\n",
       "    .dataframe tbody tr th {\n",
       "        vertical-align: top;\n",
       "    }\n",
       "\n",
       "    .dataframe thead th {\n",
       "        text-align: right;\n",
       "    }\n",
       "</style>\n",
       "<table border=\"1\" class=\"dataframe\">\n",
       "  <thead>\n",
       "    <tr style=\"text-align: right;\">\n",
       "      <th></th>\n",
       "      <th>Classifier</th>\n",
       "      <th>F1 test</th>\n",
       "      <th>F1 train</th>\n",
       "    </tr>\n",
       "  </thead>\n",
       "  <tbody>\n",
       "    <tr>\n",
       "      <th>1</th>\n",
       "      <td>BOW One-hot + XGBoost</td>\n",
       "      <td>0.944</td>\n",
       "      <td>0.956</td>\n",
       "    </tr>\n",
       "    <tr>\n",
       "      <th>2</th>\n",
       "      <td>Embeddings + RNN(E-256 R-32 B-128)</td>\n",
       "      <td>0.933</td>\n",
       "      <td>0.949</td>\n",
       "    </tr>\n",
       "    <tr>\n",
       "      <th>0</th>\n",
       "      <td>BOW One-hot + LR (baseline)</td>\n",
       "      <td>0.916</td>\n",
       "      <td>0.940</td>\n",
       "    </tr>\n",
       "  </tbody>\n",
       "</table>\n",
       "</div>"
      ],
      "text/plain": [
       "                           Classifier  F1 test  F1 train\n",
       "1               BOW One-hot + XGBoost    0.944     0.956\n",
       "2  Embeddings + RNN(E-256 R-32 B-128)    0.933     0.949\n",
       "0         BOW One-hot + LR (baseline)    0.916     0.940"
      ]
     },
     "execution_count": 2,
     "metadata": {},
     "output_type": "execute_result"
    }
   ],
   "source": [
    "pd.set_option('precision', 3)\n",
    "\n",
    "bus_class_scores_df = helpers.get_serialized_models_scores()\n",
    "bus_class_scores_df = bus_class_scores_df.sort_values(by=['F1 test', 'F1 train'], ascending=False)\n",
    "bus_class_scores_df[['Classifier', 'F1 test', 'F1 train']]"
   ]
  },
  {
   "cell_type": "markdown",
   "metadata": {},
   "source": [
    "Проверим результаты трех полученных классификаторов формально с помощью математической статистики. Необходимо убедиться, что Gradient Boosting на BOW статистически значимо лучше других двух, т.е. результаты получены неслучайно.\n",
    "\n",
    "На каждом классификаторе мы посчитали значение статистики $F1 score$.\n",
    "$F1 score$ - есть случайная величина из неизвестного нам теоретического распределения $P$.\n",
    "\n",
    "Попробуем эмпирически оценить распределение $P$ с помощью метода Бутстреп(семплирование с возвращением)."
   ]
  },
  {
   "cell_type": "code",
   "execution_count": 3,
   "metadata": {},
   "outputs": [],
   "source": [
    "def get_bootstrap_samples(data, num_samples):\n",
    "    indices = np.random.randint(0, len(data), (num_samples, len(data)))\n",
    "    samples = data[indices]\n",
    "    return samples\n",
    "\n",
    "def stat_intervals(stat, alpha):\n",
    "    boundaries = np.percentile(stat, [100 * alpha / 2., 100 * (1 - alpha / 2.)])\n",
    "    return boundaries"
   ]
  },
  {
   "cell_type": "markdown",
   "metadata": {},
   "source": [
    "## Доверительные интервалы\n",
    "\n",
    "Сначала построим доверительные интервалы для $F1score$ для каждого из классификаторов."
   ]
  },
  {
   "cell_type": "markdown",
   "metadata": {},
   "source": [
    "### Logistic Regression классификатор (baseline)"
   ]
  },
  {
   "cell_type": "code",
   "execution_count": 4,
   "metadata": {},
   "outputs": [
    {
     "name": "stdout",
     "output_type": "stream",
     "text": [
      "95% доверительный интервал для baseline F1score [0.89361702 0.93823141]\n"
     ]
    }
   ],
   "source": [
    "test_dataset = np.array(list(helpers.load_one_hot_test_dataset()))\n",
    "lr_model = helpers.load_model('lr_model')\n",
    "\n",
    "f1_lr = []\n",
    "for x in get_bootstrap_samples(test_dataset, 1000):\n",
    "    data_points, answers = list(zip(*x))\n",
    "    y_test_pred = lr_model.predict(data_points)\n",
    "    f1_lr.append(f1_score(answers, y_test_pred))\n",
    "\n",
    "print('95% доверительный интервал для baseline F1score', stat_intervals(f1_lr, 0.05))"
   ]
  },
  {
   "cell_type": "markdown",
   "metadata": {},
   "source": [
    "### Gradient Boosting классификатор"
   ]
  },
  {
   "cell_type": "code",
   "execution_count": 5,
   "metadata": {},
   "outputs": [
    {
     "name": "stdout",
     "output_type": "stream",
     "text": [
      "95% доверительный интервал для XGboost F1score [0.92399239 0.95927962]\n"
     ]
    }
   ],
   "source": [
    "xgb_model = helpers.load_model('xgb_model')\n",
    "\n",
    "f1_xgb = []\n",
    "for x in get_bootstrap_samples(test_dataset, 1000):\n",
    "    data_points, answers = list(zip(*x))\n",
    "    y_test_pred = xgb_model.predict(list(data_points))\n",
    "    f1_xgb.append(f1_score(answers, y_test_pred))\n",
    "\n",
    "print('95% доверительный интервал для XGboost F1score', stat_intervals(f1_xgb, 0.05))"
   ]
  },
  {
   "cell_type": "markdown",
   "metadata": {},
   "source": [
    "### RNN классификатор"
   ]
  },
  {
   "cell_type": "code",
   "execution_count": 6,
   "metadata": {},
   "outputs": [
    {
     "name": "stdout",
     "output_type": "stream",
     "text": [
      "95% доверительный интервал для RNN F1score [0.91550808 0.9490042 ]\n"
     ]
    }
   ],
   "source": [
    "device = 'cuda:0' if torch.cuda.is_available() else 'cpu'\n",
    "\n",
    "test_dataset_nn = helpers.load_rnn_test_dataset()\n",
    "test_dataset_nn[0]\n",
    "\n",
    "rnn_model = helpers.load_model('rnn_model')\n",
    "\n",
    "type(test_dataset_nn)\n",
    "\n",
    "f1_rnn = []\n",
    "with torch.no_grad():\n",
    "    x = get_bootstrap_samples(test_dataset_nn, 1000)\n",
    "    data_points = x[0]\n",
    "    answers = x[1]\n",
    "    \n",
    "    for data_point, answer in zip(data_points, answers):\n",
    "        x_test = helpers.copy_data_to_device(data_point, device)\n",
    "        y_test = answer.detach().numpy().flatten()\n",
    "        y_test_pred = rnn_model.inference(x_test).cpu().detach().numpy().flatten()\n",
    "        f1_rnn.append(f1_score(y_test, np.round(y_test_pred)))\n",
    "        \n",
    "    print('95% доверительный интервал для RNN F1score', stat_intervals(f1_rnn, 0.05))"
   ]
  },
  {
   "cell_type": "markdown",
   "metadata": {},
   "source": [
    "Все три интервала пересекаются, это не позволяет сделать выводы о значимом различии в качестве."
   ]
  },
  {
   "cell_type": "markdown",
   "metadata": {},
   "source": [
    "### Доверительные интервалы для попарных разностей"
   ]
  },
  {
   "cell_type": "code",
   "execution_count": 7,
   "metadata": {},
   "outputs": [
    {
     "name": "stdout",
     "output_type": "stream",
     "text": [
      "95% доверительный интервал for для попарных разностей LR и XGB [-0.00122708  0.05617943]\n",
      "95% доверительный интервал for для попарных разностей LR and RNN [-0.01430861  0.04642265]\n",
      "95% доверительный интервал for для попарных разностей RNN and XGB [-0.01366475  0.0376574 ]\n"
     ]
    }
   ],
   "source": [
    "delta_f1_scores_lr_xgb = list(map(lambda x: x[1] - x[0], zip(f1_lr, f1_xgb)))\n",
    "print(\"95% доверительный интервал for для попарных разностей LR и XGB\",  stat_intervals(delta_f1_scores_lr_xgb, 0.05))\n",
    "delta_f1_scores_lr_rnn = list(map(lambda x: x[1] - x[0], zip(f1_lr, f1_rnn)))\n",
    "print(\"95% доверительный интервал for для попарных разностей LR and RNN\",  stat_intervals(delta_f1_scores_lr_rnn, 0.05))\n",
    "delta_f1_scores_rnn_xgb = list(map(lambda x: x[1] - x[0], zip(f1_rnn, f1_xgb)))\n",
    "print(\"95% доверительный интервал for для попарных разностей RNN and XGB\",  stat_intervals(delta_f1_scores_rnn_xgb, 0.05))"
   ]
  },
  {
   "cell_type": "markdown",
   "metadata": {},
   "source": [
    "**Вывод:** Так как в первом интервале не содержится 0, значит XGBoost значимо лучше, чем Logistic Regression.\n",
    "\n",
    "Построим QQ-графики, чтобы визуально проверить распределения для попарных разностей на нормальность."
   ]
  },
  {
   "cell_type": "code",
   "execution_count": 8,
   "metadata": {},
   "outputs": [
    {
     "data": {
      "image/png": "[encoded data removed]",
      "text/plain": [
       "<Figure size 1080x288 with 3 Axes>"
      ]
     },
     "metadata": {
      "needs_background": "light"
     },
     "output_type": "display_data"
    }
   ],
   "source": [
    "fig = plt.figure(figsize=(15,4))\n",
    "\n",
    "ax = fig.add_subplot(131)\n",
    "ax.set_title('Logistic Regression')\n",
    "scipy.stats.probplot(delta_f1_scores_lr_xgb, dist = \"norm\", plot=ax)\n",
    "\n",
    "ax = fig.add_subplot(132)\n",
    "scipy.stats.probplot(delta_f1_scores_lr_rnn, dist = \"norm\", plot=ax)\n",
    "\n",
    "ax = fig.add_subplot(133)\n",
    "scipy.stats.probplot(delta_f1_scores_rnn_xgb, dist = \"norm\", plot=ax)\n",
    "\n",
    "plt.show()"
   ]
  },
  {
   "cell_type": "markdown",
   "metadata": {},
   "source": [
    "**Вывод:** Визуально все три распределения не сильно отличаются от нормального.\n",
    "\n",
    "Попробуем формально проверить на нормальность с помощью критерия Шапиро-Уилка."
   ]
  },
  {
   "cell_type": "code",
   "execution_count": 9,
   "metadata": {},
   "outputs": [
    {
     "name": "stdout",
     "output_type": "stream",
     "text": [
      "LR + XGBoost statistic: 0.9984460473060608, p-value: 0.5198925137519836\n",
      "LR + RNN statistic: 0.9988933205604553, p-value: 0.8133946061134338\n",
      "RNN + XGBoost statistic: 0.997575044631958, p-value: 0.14636266231536865\n"
     ]
    }
   ],
   "source": [
    "s, p = scipy.stats.shapiro(delta_f1_scores_lr_xgb)\n",
    "print(\"LR + XGBoost statistic: {0}, p-value: {1}\".format(s, p))\n",
    "s, p = scipy.stats.shapiro(delta_f1_scores_lr_rnn)\n",
    "print(\"LR + RNN statistic: {0}, p-value: {1}\".format(s, p))\n",
    "s, p = scipy.stats.shapiro(delta_f1_scores_rnn_xgb)\n",
    "print(\"RNN + XGBoost statistic: {0}, p-value: {1}\".format(s, p))"
   ]
  },
  {
   "cell_type": "markdown",
   "metadata": {},
   "source": [
    "**Вывод:** Тест Шапиро-Уилка не отвергает $H_0$ о том, что случайные величины распределены нормально."
   ]
  },
  {
   "cell_type": "code",
   "execution_count": 10,
   "metadata": {},
   "outputs": [],
   "source": [
    "def calc_one_sided_alternative(t_stat, p_value, alternative='greater'):\n",
    "    assert alternative=='greater' or alternative=='less'\n",
    "    assert p_value >= 0\n",
    "\n",
    "    if (p_value/2 < 0.05) and (alternative == 'greater' and t_stat > 0) or (alternative == 'less' and t_stat < 0):\n",
    "         print('Нулевую гипотезу можно отвергнуть в пользу альтернативы с p-value=0.05')\n",
    "    else:\n",
    "        print('Нулевую гипотезу нельзя отвергнуть в пользу альтернативы')"
   ]
  },
  {
   "cell_type": "markdown",
   "metadata": {},
   "source": [
    "Так как выборки взяты из трех нормальных распределений можно сформулировать гипотезы и воспользоваться критерием Стьюдента для связанных выборок.\n",
    "\n",
    "Выдвенем три гипотезы, которые попарно сравнивают все три классфификатора"
   ]
  },
  {
   "cell_type": "markdown",
   "metadata": {},
   "source": [
    "$H_0\\colon$ среднее значение RNN классификатора больше или равно, чем среднее значение XGB классфикатора $\\mu(f1_{rnn}) \\geq \\mu(f1_{xgb})$\n",
    "\n",
    "$H_1\\colon$ не больше"
   ]
  },
  {
   "cell_type": "code",
   "execution_count": 11,
   "metadata": {},
   "outputs": [
    {
     "name": "stdout",
     "output_type": "stream",
     "text": [
      "-27.36584571268203 1.709031590538288e-123\n",
      "Нулевую гипотезу можно отвергнуть в пользу альтернативы с p-value=0.05\n"
     ]
    }
   ],
   "source": [
    "t, p = scipy.stats.ttest_rel(f1_rnn, f1_xgb)\n",
    "print(t, p)\n",
    "\n",
    "calc_one_sided_alternative(t, p, alternative='less')"
   ]
  },
  {
   "cell_type": "markdown",
   "metadata": {},
   "source": [
    "$H_0\\colon$ среднее значение LR классификатора больше или равно, чем среднее значение RNN классфикатора $\\mu(f1_{lr}) \\geq \\mu(f1_{rnn})$\n",
    "\n",
    "$H_1\\colon$ не больше"
   ]
  },
  {
   "cell_type": "code",
   "execution_count": 12,
   "metadata": {},
   "outputs": [
    {
     "name": "stdout",
     "output_type": "stream",
     "text": [
      "-34.86372037206889 7.108354085887873e-175\n",
      "Нулевую гипотезу можно отвергнуть в пользу альтернативы с p-value=0.05\n"
     ]
    }
   ],
   "source": [
    "t, p = scipy.stats.ttest_rel(f1_lr, f1_rnn)\n",
    "print(t, p)\n",
    "\n",
    "calc_one_sided_alternative(t, p, alternative='less')"
   ]
  },
  {
   "cell_type": "markdown",
   "metadata": {},
   "source": [
    "$H_0\\colon$ среднее значение LR классификатора больше, чем среднее значение XGB классфикатора $\\mu(f1_{lr}) \\geq \\mu(f1_{xgb})$\n",
    "\n",
    "$H_1\\colon$ не больше"
   ]
  },
  {
   "cell_type": "code",
   "execution_count": 13,
   "metadata": {},
   "outputs": [
    {
     "name": "stdout",
     "output_type": "stream",
     "text": [
      "-59.55744251849586 0.0\n",
      "Нулевую гипотезу можно отвергнуть в пользу альтернативы с p-value=0.05\n"
     ]
    }
   ],
   "source": [
    "t, p = scipy.stats.ttest_rel(f1_lr, f1_xgb)\n",
    "print(t, p)\n",
    "\n",
    "calc_one_sided_alternative(t, p, alternative='less')"
   ]
  },
  {
   "cell_type": "markdown",
   "metadata": {},
   "source": [
    "**Вывод:**\n",
    "\n",
    "Все три нулевых гипотезы отвергнуты, а это значит что $\\mu(f1_{lr}) < \\mu(f1_{rnn}) < \\mu(f1_{xgb})$.\n",
    "Значит мы можем выбрать классификатор, построенный на градиентном бустинге в качестве кандидата номер 1, чтобы отправить его в production."
   ]
  }
 ],
 "metadata": {
  "kernelspec": {
   "display_name": "Python 3",
   "language": "python",
   "name": "python3"
  },
  "language_info": {
   "codemirror_mode": {
    "name": "ipython",
    "version": 3
   },
   "file_extension": ".py",
   "mimetype": "text/x-python",
   "name": "python",
   "nbconvert_exporter": "python",
   "pygments_lexer": "ipython3",
   "version": "3.6.8"
  }
 },
 "nbformat": 4,
 "nbformat_minor": 2
}
